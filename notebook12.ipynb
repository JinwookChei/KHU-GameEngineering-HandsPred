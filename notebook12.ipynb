{
 "cells": [
  {
   "cell_type": "markdown",
   "metadata": {},
   "source": [
    "# Code Templates: LSTM Prediction Model\n",
    "2024-2 SWCON314"
   ]
  },
  {
   "cell_type": "code",
   "execution_count": 1,
   "metadata": {},
   "outputs": [],
   "source": [
    "# 히든레이어 100 -> 200"
   ]
  },
  {
   "cell_type": "code",
   "execution_count": 2,
   "metadata": {},
   "outputs": [],
   "source": [
    "import numpy as np\n",
    "import pandas as pd\n",
    "from sklearn.model_selection import train_test_split\n",
    "\n",
    "import torch\n",
    "import torch.nn as nn\n",
    "from torch.utils.data import DataLoader, TensorDataset, ConcatDataset\n",
    "\n",
    "import glob\n",
    "from tqdm import tqdm\n",
    "\n",
    "from LSTMModel import LSTMModel"
   ]
  },
  {
   "cell_type": "code",
   "execution_count": 3,
   "metadata": {},
   "outputs": [
    {
     "name": "stdout",
     "output_type": "stream",
     "text": [
      "data\\free\\free1\\2_rear.csv\n",
      "data\\free\\free1\\4_rear.csv\n",
      "data\\free\\free1\\6_rear.csv\n",
      "data\\free\\free2\\2_rear.csv\n",
      "data\\free\\free2\\4_rear.csv\n",
      "data\\free\\free3\\2_rear.csv\n",
      "data\\free\\free3\\4_rear.csv\n",
      "data\\free\\free3\\6_rear.csv\n",
      "data\\free\\free4\\2_rear.csv\n",
      "data\\free\\free4\\4_rear.csv\n",
      "data\\free\\free4\\6_rear.csv\n",
      "data\\free\\free5\\2_rear.csv\n",
      "data\\free\\free5\\4_rear.csv\n",
      "data\\free\\free5\\6_rear.csv\n",
      "data\\free\\free6\\12.csv\n",
      "data\\free\\free6\\4.csv\n",
      "data\\free\\free6\\8.csv\n",
      "data\\free\\free7\\1.csv\n",
      "data\\free\\free7\\4.csv\n",
      "data\\free\\free7\\8.csv\n",
      "data\\free\\free8\\10.csv\n",
      "data\\free\\free8\\4.csv\n",
      "data\\free\\free8\\8.csv\n",
      "data\\free\\free9\\12.csv\n",
      "data\\free\\free9\\4.csv\n",
      "data\\free\\free9\\8.csv\n",
      "True\n"
     ]
    }
   ],
   "source": [
    "# Hyperparameters\n",
    "TIME_STEP = 20\n",
    "STRIDE = 1\n",
    "INPUT_SIZE = 24\n",
    "OUTPUT_SIZE = 1\n",
    "BATCH_SIZE = 161\n",
    "HIDDEN_LAYER_SIZE = 400\n",
    "EPOCHS = 400\n",
    "LEARNNG_RATE = 0.0007\n",
    "\n",
    "# path and filename to save trained model\n",
    "OUTPUT_FILENAME = 'model/free_12.pth'\n",
    "\n",
    "# path to dataset\n",
    "DATA_PATH = 'data'\n",
    "\n",
    "# selecting columns from dataset csv file\n",
    "x_features = [i for i in range(24)]\n",
    "y_features = [48]\n",
    "\n",
    "csv_file_paths = glob.glob(f'{DATA_PATH}/**/*.csv', recursive=True)\n",
    "for path in csv_file_paths:\n",
    "    print(path)\n",
    "\n",
    "cuda_available = torch.cuda.is_available()\n",
    "print(cuda_available)"
   ]
  },
  {
   "cell_type": "code",
   "execution_count": 4,
   "metadata": {},
   "outputs": [],
   "source": [
    "def preprocess_file(file_path,  time_steps):\n",
    "    data = pd.read_csv(file_path)\n",
    "    X_features = data.values[:, x_features]\n",
    "    y_target = data.values[:, y_features]\n",
    "    X, y = create_dataset(X_features, y_target, time_steps)\n",
    "    return X, y\n",
    "\n",
    "def create_dataset(X, y, time_steps, stride=STRIDE):\n",
    "    Xs, ys = [], []\n",
    "    for i in range(0, len(X) - time_steps, stride):  # i의 증가량을 stride로 조정 -> sequence에서 시작 index를 stride 숫자씩 옮겨가며 시작 index ~ index + time_step만큼의 열을 추출\n",
    "        v = X[i:(i + time_steps)]   # input feature data sequence\n",
    "        Xs.append(v)\n",
    "        ys.append(y[i + time_steps])\n",
    "\n",
    "    return np.array(Xs), np.array(ys)\n",
    "\n",
    "def load_and_process_data(file_paths, time_steps, batch_size=16):\n",
    "    all_X, all_y = [], []\n",
    "    \n",
    "    for file_path in file_paths:\n",
    "        # 파일별 데이터 처리\n",
    "        X, y = preprocess_file(file_path, time_steps)\n",
    "        all_X.append(X)\n",
    "        all_y.append(y)\n",
    "    \n",
    "    # 모든 데이터를 하나로 합침\n",
    "    combined_X = np.concatenate(all_X, axis=0)\n",
    "    combined_y = np.concatenate(all_y, axis=0)\n",
    "    \n",
    "    # 데이터 분할\n",
    "    X_train, X_val, y_train, y_val = train_test_split(\n",
    "        combined_X, combined_y, test_size=0.1, random_state=42)\n",
    "    \n",
    "    # DataLoader 생성\n",
    "    train_loader = DataLoader(TensorDataset(\n",
    "        torch.tensor(X_train, dtype=torch.float32),\n",
    "        torch.tensor(y_train, dtype=torch.float32)),\n",
    "        batch_size=batch_size,\n",
    "        shuffle=True)\n",
    "    val_loader = DataLoader(TensorDataset(\n",
    "        torch.tensor(X_val, dtype=torch.float32),\n",
    "        torch.tensor(y_val, dtype=torch.float32)),\n",
    "        batch_size=batch_size,\n",
    "        shuffle=False)\n",
    "    \n",
    "    return train_loader, val_loader\n",
    "\n",
    "def create_final_loaders(csv_file_paths, time_steps, batch_size):\n",
    "    # csv_file_paths 분할\n",
    "    subsets = [csv_file_paths[x:x+100] for x in range(0, len(csv_file_paths), 100)]\n",
    "\n",
    "    # 각 서브셋에 대한 DataLoader 리스트 초기화\n",
    "    train_loaders = []\n",
    "    valid_loaders = []\n",
    "\n",
    "    # 각 서브셋에 대해 DataLoader 생성 및 리스트에 추가\n",
    "    for subset in subsets:\n",
    "        train_loader, valid_loader = load_and_process_data(\n",
    "            subset,\n",
    "            time_steps=time_steps,\n",
    "            batch_size=batch_size)\n",
    "        train_loaders.append(train_loader)\n",
    "        valid_loaders.append(valid_loader)\n",
    "\n",
    "    # DataLoader들을 합친 최종 DataLoader 생성\n",
    "    final_train_loader = DataLoader(ConcatDataset(\n",
    "        [loader.dataset for loader in train_loaders]),\n",
    "        batch_size=batch_size,\n",
    "        shuffle=True)\n",
    "    final_valid_loader = DataLoader(ConcatDataset(\n",
    "        [loader.dataset for loader in valid_loaders]),\n",
    "        batch_size=batch_size,\n",
    "        shuffle=False)\n",
    "\n",
    "    return final_train_loader, final_valid_loader\n",
    "\n",
    "trainloader, validloader = create_final_loaders(\n",
    "    csv_file_paths, time_steps=TIME_STEP, batch_size=BATCH_SIZE)"
   ]
  },
  {
   "cell_type": "code",
   "execution_count": 5,
   "metadata": {},
   "outputs": [
    {
     "name": "stderr",
     "output_type": "stream",
     "text": [
      "Epoch 1/400 Training: 100%|██████████| 235/235 [00:01<00:00, 200.04it/s]\n",
      "Epoch 1/400 Validation: 100%|██████████| 27/27 [00:00<00:00, 397.04it/s]\n"
     ]
    },
    {
     "name": "stdout",
     "output_type": "stream",
     "text": [
      "Epoch 1, Validation RMSE: 0.003461070591583848\n",
      "New best model with RMSE: 0.003461070591583848, saving model...\n"
     ]
    },
    {
     "name": "stderr",
     "output_type": "stream",
     "text": [
      "Epoch 2/400 Training: 100%|██████████| 235/235 [00:01<00:00, 229.30it/s]\n",
      "Epoch 3/400 Training: 100%|██████████| 235/235 [00:01<00:00, 228.86it/s]\n",
      "Epoch 4/400 Training: 100%|██████████| 235/235 [00:01<00:00, 233.27it/s]\n",
      "Epoch 5/400 Training: 100%|██████████| 235/235 [00:01<00:00, 231.69it/s]\n",
      "Epoch 6/400 Training: 100%|██████████| 235/235 [00:01<00:00, 232.12it/s]\n",
      "Epoch 6/400 Validation: 100%|██████████| 27/27 [00:00<00:00, 437.56it/s]\n"
     ]
    },
    {
     "name": "stdout",
     "output_type": "stream",
     "text": [
      "Epoch 6, Validation RMSE: 0.002855537459254265\n",
      "New best model with RMSE: 0.002855537459254265, saving model...\n"
     ]
    },
    {
     "name": "stderr",
     "output_type": "stream",
     "text": [
      "Epoch 7/400 Training: 100%|██████████| 235/235 [00:01<00:00, 223.51it/s]\n",
      "Epoch 8/400 Training: 100%|██████████| 235/235 [00:01<00:00, 210.46it/s]\n",
      "Epoch 9/400 Training: 100%|██████████| 235/235 [00:01<00:00, 209.83it/s]\n",
      "Epoch 10/400 Training: 100%|██████████| 235/235 [00:01<00:00, 212.47it/s]\n",
      "Epoch 11/400 Training: 100%|██████████| 235/235 [00:01<00:00, 223.20it/s]\n",
      "Epoch 11/400 Validation: 100%|██████████| 27/27 [00:00<00:00, 489.00it/s]\n"
     ]
    },
    {
     "name": "stdout",
     "output_type": "stream",
     "text": [
      "Epoch 11, Validation RMSE: 0.002569824457168579\n",
      "New best model with RMSE: 0.002569824457168579, saving model...\n"
     ]
    },
    {
     "name": "stderr",
     "output_type": "stream",
     "text": [
      "Epoch 12/400 Training: 100%|██████████| 235/235 [00:01<00:00, 223.36it/s]\n",
      "Epoch 13/400 Training: 100%|██████████| 235/235 [00:01<00:00, 227.00it/s]\n",
      "Epoch 14/400 Training: 100%|██████████| 235/235 [00:01<00:00, 230.12it/s]\n",
      "Epoch 15/400 Training: 100%|██████████| 235/235 [00:00<00:00, 235.98it/s]\n",
      "Epoch 16/400 Training: 100%|██████████| 235/235 [00:00<00:00, 238.68it/s]\n",
      "Epoch 16/400 Validation: 100%|██████████| 27/27 [00:00<00:00, 324.79it/s]\n"
     ]
    },
    {
     "name": "stdout",
     "output_type": "stream",
     "text": [
      "Epoch 16, Validation RMSE: 0.002427655505016446\n",
      "New best model with RMSE: 0.002427655505016446, saving model...\n"
     ]
    },
    {
     "name": "stderr",
     "output_type": "stream",
     "text": [
      "Epoch 17/400 Training: 100%|██████████| 235/235 [00:00<00:00, 239.42it/s]\n",
      "Epoch 18/400 Training: 100%|██████████| 235/235 [00:00<00:00, 241.23it/s]\n",
      "Epoch 19/400 Training: 100%|██████████| 235/235 [00:00<00:00, 240.73it/s]\n",
      "Epoch 20/400 Training: 100%|██████████| 235/235 [00:01<00:00, 214.18it/s]\n",
      "Epoch 21/400 Training: 100%|██████████| 235/235 [00:01<00:00, 212.79it/s]\n",
      "Epoch 21/400 Validation: 100%|██████████| 27/27 [00:00<00:00, 448.68it/s]\n"
     ]
    },
    {
     "name": "stdout",
     "output_type": "stream",
     "text": [
      "Epoch 21, Validation RMSE: 0.0029542192351073027\n"
     ]
    },
    {
     "name": "stderr",
     "output_type": "stream",
     "text": [
      "Epoch 22/400 Training: 100%|██████████| 235/235 [00:01<00:00, 212.98it/s]\n",
      "Epoch 23/400 Training: 100%|██████████| 235/235 [00:01<00:00, 215.79it/s]\n",
      "Epoch 24/400 Training: 100%|██████████| 235/235 [00:01<00:00, 214.15it/s]\n",
      "Epoch 25/400 Training: 100%|██████████| 235/235 [00:01<00:00, 211.03it/s]\n",
      "Epoch 26/400 Training: 100%|██████████| 235/235 [00:01<00:00, 210.68it/s]\n",
      "Epoch 26/400 Validation: 100%|██████████| 27/27 [00:00<00:00, 506.74it/s]\n"
     ]
    },
    {
     "name": "stdout",
     "output_type": "stream",
     "text": [
      "Epoch 26, Validation RMSE: 0.0020805613603442907\n",
      "New best model with RMSE: 0.0020805613603442907, saving model...\n"
     ]
    },
    {
     "name": "stderr",
     "output_type": "stream",
     "text": [
      "Epoch 27/400 Training: 100%|██████████| 235/235 [00:01<00:00, 213.44it/s]\n",
      "Epoch 28/400 Training: 100%|██████████| 235/235 [00:01<00:00, 214.13it/s]\n",
      "Epoch 29/400 Training: 100%|██████████| 235/235 [00:01<00:00, 216.92it/s]\n",
      "Epoch 30/400 Training: 100%|██████████| 235/235 [00:01<00:00, 225.67it/s]\n",
      "Epoch 31/400 Training: 100%|██████████| 235/235 [00:00<00:00, 237.91it/s]\n",
      "Epoch 31/400 Validation: 100%|██████████| 27/27 [00:00<00:00, 516.41it/s]\n"
     ]
    },
    {
     "name": "stdout",
     "output_type": "stream",
     "text": [
      "Epoch 31, Validation RMSE: 0.0019833985716104507\n",
      "New best model with RMSE: 0.0019833985716104507, saving model...\n"
     ]
    },
    {
     "name": "stderr",
     "output_type": "stream",
     "text": [
      "Epoch 32/400 Training: 100%|██████████| 235/235 [00:00<00:00, 237.27it/s]\n",
      "Epoch 33/400 Training: 100%|██████████| 235/235 [00:00<00:00, 237.45it/s]\n",
      "Epoch 34/400 Training: 100%|██████████| 235/235 [00:00<00:00, 235.57it/s]\n",
      "Epoch 35/400 Training: 100%|██████████| 235/235 [00:01<00:00, 219.71it/s]\n",
      "Epoch 36/400 Training: 100%|██████████| 235/235 [00:01<00:00, 219.89it/s]\n",
      "Epoch 36/400 Validation: 100%|██████████| 27/27 [00:00<00:00, 532.99it/s]\n"
     ]
    },
    {
     "name": "stdout",
     "output_type": "stream",
     "text": [
      "Epoch 36, Validation RMSE: 0.001833421876654029\n",
      "New best model with RMSE: 0.001833421876654029, saving model...\n"
     ]
    },
    {
     "name": "stderr",
     "output_type": "stream",
     "text": [
      "Epoch 37/400 Training: 100%|██████████| 235/235 [00:01<00:00, 216.87it/s]\n",
      "Epoch 38/400 Training: 100%|██████████| 235/235 [00:01<00:00, 218.09it/s]\n",
      "Epoch 39/400 Training: 100%|██████████| 235/235 [00:01<00:00, 218.60it/s]\n",
      "Epoch 40/400 Training: 100%|██████████| 235/235 [00:01<00:00, 217.47it/s]\n",
      "Epoch 41/400 Training: 100%|██████████| 235/235 [00:01<00:00, 213.55it/s]\n",
      "Epoch 41/400 Validation: 100%|██████████| 27/27 [00:00<00:00, 462.81it/s]\n"
     ]
    },
    {
     "name": "stdout",
     "output_type": "stream",
     "text": [
      "Epoch 41, Validation RMSE: 0.0016996979247778654\n",
      "New best model with RMSE: 0.0016996979247778654, saving model...\n"
     ]
    },
    {
     "name": "stderr",
     "output_type": "stream",
     "text": [
      "Epoch 42/400 Training: 100%|██████████| 235/235 [00:01<00:00, 227.82it/s]\n",
      "Epoch 43/400 Training: 100%|██████████| 235/235 [00:01<00:00, 228.10it/s]\n",
      "Epoch 44/400 Training: 100%|██████████| 235/235 [00:01<00:00, 231.41it/s]\n",
      "Epoch 45/400 Training: 100%|██████████| 235/235 [00:01<00:00, 226.98it/s]\n",
      "Epoch 46/400 Training: 100%|██████████| 235/235 [00:01<00:00, 225.19it/s]\n",
      "Epoch 46/400 Validation: 100%|██████████| 27/27 [00:00<00:00, 496.02it/s]\n"
     ]
    },
    {
     "name": "stdout",
     "output_type": "stream",
     "text": [
      "Epoch 46, Validation RMSE: 0.00130919658113271\n",
      "New best model with RMSE: 0.00130919658113271, saving model...\n"
     ]
    },
    {
     "name": "stderr",
     "output_type": "stream",
     "text": [
      "Epoch 47/400 Training: 100%|██████████| 235/235 [00:01<00:00, 225.80it/s]\n",
      "Epoch 48/400 Training: 100%|██████████| 235/235 [00:01<00:00, 217.84it/s]\n",
      "Epoch 49/400 Training: 100%|██████████| 235/235 [00:01<00:00, 216.98it/s]\n",
      "Epoch 50/400 Training: 100%|██████████| 235/235 [00:01<00:00, 217.99it/s]\n",
      "Epoch 51/400 Training: 100%|██████████| 235/235 [00:00<00:00, 237.84it/s]\n",
      "Epoch 51/400 Validation: 100%|██████████| 27/27 [00:00<00:00, 516.16it/s]\n"
     ]
    },
    {
     "name": "stdout",
     "output_type": "stream",
     "text": [
      "Epoch 51, Validation RMSE: 0.0011404315009713173\n",
      "New best model with RMSE: 0.0011404315009713173, saving model...\n"
     ]
    },
    {
     "name": "stderr",
     "output_type": "stream",
     "text": [
      "Epoch 52/400 Training: 100%|██████████| 235/235 [00:00<00:00, 237.47it/s]\n",
      "Epoch 53/400 Training: 100%|██████████| 235/235 [00:00<00:00, 238.32it/s]\n",
      "Epoch 54/400 Training: 100%|██████████| 235/235 [00:00<00:00, 237.48it/s]\n",
      "Epoch 55/400 Training: 100%|██████████| 235/235 [00:00<00:00, 235.61it/s]\n",
      "Epoch 56/400 Training: 100%|██████████| 235/235 [00:00<00:00, 238.36it/s]\n",
      "Epoch 56/400 Validation: 100%|██████████| 27/27 [00:00<00:00, 468.33it/s]\n"
     ]
    },
    {
     "name": "stdout",
     "output_type": "stream",
     "text": [
      "Epoch 56, Validation RMSE: 0.0009484551846981049\n",
      "New best model with RMSE: 0.0009484551846981049, saving model...\n"
     ]
    },
    {
     "name": "stderr",
     "output_type": "stream",
     "text": [
      "Epoch 57/400 Training: 100%|██████████| 235/235 [00:00<00:00, 236.74it/s]\n",
      "Epoch 58/400 Training: 100%|██████████| 235/235 [00:00<00:00, 238.90it/s]\n",
      "Epoch 59/400 Training: 100%|██████████| 235/235 [00:00<00:00, 237.69it/s]\n",
      "Epoch 60/400 Training: 100%|██████████| 235/235 [00:01<00:00, 226.36it/s]\n",
      "Epoch 61/400 Training: 100%|██████████| 235/235 [00:01<00:00, 223.50it/s]\n",
      "Epoch 61/400 Validation: 100%|██████████| 27/27 [00:00<00:00, 488.36it/s]\n"
     ]
    },
    {
     "name": "stdout",
     "output_type": "stream",
     "text": [
      "Epoch 61, Validation RMSE: 0.000905752123799175\n",
      "New best model with RMSE: 0.000905752123799175, saving model...\n"
     ]
    },
    {
     "name": "stderr",
     "output_type": "stream",
     "text": [
      "Epoch 62/400 Training: 100%|██████████| 235/235 [00:01<00:00, 210.21it/s]\n",
      "Epoch 63/400 Training: 100%|██████████| 235/235 [00:01<00:00, 211.19it/s]\n",
      "Epoch 64/400 Training: 100%|██████████| 235/235 [00:01<00:00, 212.62it/s]\n",
      "Epoch 65/400 Training: 100%|██████████| 235/235 [00:01<00:00, 211.37it/s]\n",
      "Epoch 66/400 Training: 100%|██████████| 235/235 [00:01<00:00, 210.71it/s]\n",
      "Epoch 66/400 Validation: 100%|██████████| 27/27 [00:00<00:00, 524.66it/s]\n"
     ]
    },
    {
     "name": "stdout",
     "output_type": "stream",
     "text": [
      "Epoch 66, Validation RMSE: 0.0008151043439283967\n",
      "New best model with RMSE: 0.0008151043439283967, saving model...\n"
     ]
    },
    {
     "name": "stderr",
     "output_type": "stream",
     "text": [
      "Epoch 67/400 Training: 100%|██████████| 235/235 [00:01<00:00, 207.73it/s]\n",
      "Epoch 68/400 Training: 100%|██████████| 235/235 [00:01<00:00, 206.83it/s]\n",
      "Epoch 69/400 Training: 100%|██████████| 235/235 [00:01<00:00, 211.27it/s]\n",
      "Epoch 70/400 Training: 100%|██████████| 235/235 [00:01<00:00, 219.53it/s]\n",
      "Epoch 71/400 Training: 100%|██████████| 235/235 [00:00<00:00, 235.68it/s]\n",
      "Epoch 71/400 Validation: 100%|██████████| 27/27 [00:00<00:00, 463.90it/s]\n"
     ]
    },
    {
     "name": "stdout",
     "output_type": "stream",
     "text": [
      "Epoch 71, Validation RMSE: 0.0006594270817004144\n",
      "New best model with RMSE: 0.0006594270817004144, saving model...\n"
     ]
    },
    {
     "name": "stderr",
     "output_type": "stream",
     "text": [
      "Epoch 72/400 Training: 100%|██████████| 235/235 [00:00<00:00, 235.91it/s]\n",
      "Epoch 73/400 Training: 100%|██████████| 235/235 [00:00<00:00, 236.81it/s]\n",
      "Epoch 74/400 Training: 100%|██████████| 235/235 [00:00<00:00, 236.03it/s]\n",
      "Epoch 75/400 Training: 100%|██████████| 235/235 [00:01<00:00, 227.63it/s]\n",
      "Epoch 76/400 Training: 100%|██████████| 235/235 [00:01<00:00, 224.73it/s]\n",
      "Epoch 76/400 Validation: 100%|██████████| 27/27 [00:00<00:00, 330.73it/s]\n"
     ]
    },
    {
     "name": "stdout",
     "output_type": "stream",
     "text": [
      "Epoch 76, Validation RMSE: 0.0006626517861150205\n"
     ]
    },
    {
     "name": "stderr",
     "output_type": "stream",
     "text": [
      "Epoch 77/400 Training: 100%|██████████| 235/235 [00:01<00:00, 225.19it/s]\n",
      "Epoch 78/400 Training: 100%|██████████| 235/235 [00:01<00:00, 221.95it/s]\n",
      "Epoch 79/400 Training: 100%|██████████| 235/235 [00:01<00:00, 226.05it/s]\n",
      "Epoch 80/400 Training: 100%|██████████| 235/235 [00:01<00:00, 218.38it/s]\n",
      "Epoch 81/400 Training: 100%|██████████| 235/235 [00:01<00:00, 215.35it/s]\n",
      "Epoch 81/400 Validation: 100%|██████████| 27/27 [00:00<00:00, 481.06it/s]\n"
     ]
    },
    {
     "name": "stdout",
     "output_type": "stream",
     "text": [
      "Epoch 81, Validation RMSE: 0.0005810577422380447\n",
      "New best model with RMSE: 0.0005810577422380447, saving model...\n"
     ]
    },
    {
     "name": "stderr",
     "output_type": "stream",
     "text": [
      "Epoch 82/400 Training: 100%|██████████| 235/235 [00:01<00:00, 227.64it/s]\n",
      "Epoch 83/400 Training: 100%|██████████| 235/235 [00:01<00:00, 231.25it/s]\n",
      "Epoch 84/400 Training: 100%|██████████| 235/235 [00:00<00:00, 237.00it/s]\n",
      "Epoch 85/400 Training: 100%|██████████| 235/235 [00:01<00:00, 232.19it/s]\n",
      "Epoch 86/400 Training: 100%|██████████| 235/235 [00:01<00:00, 231.86it/s]\n",
      "Epoch 86/400 Validation: 100%|██████████| 27/27 [00:00<00:00, 364.80it/s]\n"
     ]
    },
    {
     "name": "stdout",
     "output_type": "stream",
     "text": [
      "Epoch 86, Validation RMSE: 0.0006165453232824802\n"
     ]
    },
    {
     "name": "stderr",
     "output_type": "stream",
     "text": [
      "Epoch 87/400 Training: 100%|██████████| 235/235 [00:00<00:00, 235.14it/s]\n",
      "Epoch 88/400 Training: 100%|██████████| 235/235 [00:01<00:00, 226.35it/s]\n",
      "Epoch 89/400 Training: 100%|██████████| 235/235 [00:01<00:00, 214.00it/s]\n",
      "Epoch 90/400 Training: 100%|██████████| 235/235 [00:01<00:00, 222.00it/s]\n",
      "Epoch 91/400 Training: 100%|██████████| 235/235 [00:01<00:00, 227.84it/s]\n",
      "Epoch 91/400 Validation: 100%|██████████| 27/27 [00:00<00:00, 503.87it/s]\n"
     ]
    },
    {
     "name": "stdout",
     "output_type": "stream",
     "text": [
      "Epoch 91, Validation RMSE: 0.0005308342515490949\n",
      "New best model with RMSE: 0.0005308342515490949, saving model...\n"
     ]
    },
    {
     "name": "stderr",
     "output_type": "stream",
     "text": [
      "Epoch 92/400 Training: 100%|██████████| 235/235 [00:01<00:00, 233.41it/s]\n",
      "Epoch 93/400 Training: 100%|██████████| 235/235 [00:01<00:00, 225.26it/s]\n",
      "Epoch 94/400 Training: 100%|██████████| 235/235 [00:01<00:00, 234.06it/s]\n",
      "Epoch 95/400 Training: 100%|██████████| 235/235 [00:01<00:00, 233.14it/s]\n",
      "Epoch 96/400 Training: 100%|██████████| 235/235 [00:00<00:00, 242.64it/s]\n",
      "Epoch 96/400 Validation: 100%|██████████| 27/27 [00:00<00:00, 502.89it/s]\n"
     ]
    },
    {
     "name": "stdout",
     "output_type": "stream",
     "text": [
      "Epoch 96, Validation RMSE: 0.000503859540913254\n",
      "New best model with RMSE: 0.000503859540913254, saving model...\n"
     ]
    },
    {
     "name": "stderr",
     "output_type": "stream",
     "text": [
      "Epoch 97/400 Training: 100%|██████████| 235/235 [00:00<00:00, 241.94it/s]\n",
      "Epoch 98/400 Training: 100%|██████████| 235/235 [00:00<00:00, 242.03it/s]\n",
      "Epoch 99/400 Training: 100%|██████████| 235/235 [00:00<00:00, 235.21it/s]\n",
      "Epoch 100/400 Training: 100%|██████████| 235/235 [00:01<00:00, 219.75it/s]\n",
      "Epoch 101/400 Training: 100%|██████████| 235/235 [00:01<00:00, 215.50it/s]\n",
      "Epoch 101/400 Validation: 100%|██████████| 27/27 [00:00<00:00, 488.31it/s]\n"
     ]
    },
    {
     "name": "stdout",
     "output_type": "stream",
     "text": [
      "Epoch 101, Validation RMSE: 0.0005575898103415966\n"
     ]
    },
    {
     "name": "stderr",
     "output_type": "stream",
     "text": [
      "Epoch 102/400 Training: 100%|██████████| 235/235 [00:01<00:00, 216.14it/s]\n",
      "Epoch 103/400 Training: 100%|██████████| 235/235 [00:01<00:00, 210.56it/s]\n",
      "Epoch 104/400 Training: 100%|██████████| 235/235 [00:01<00:00, 216.10it/s]\n",
      "Epoch 105/400 Training: 100%|██████████| 235/235 [00:01<00:00, 214.38it/s]\n",
      "Epoch 106/400 Training: 100%|██████████| 235/235 [00:01<00:00, 215.01it/s]\n",
      "Epoch 106/400 Validation: 100%|██████████| 27/27 [00:00<00:00, 539.62it/s]\n"
     ]
    },
    {
     "name": "stdout",
     "output_type": "stream",
     "text": [
      "Epoch 106, Validation RMSE: 0.0004470303829293698\n",
      "New best model with RMSE: 0.0004470303829293698, saving model...\n"
     ]
    },
    {
     "name": "stderr",
     "output_type": "stream",
     "text": [
      "Epoch 107/400 Training: 100%|██████████| 235/235 [00:01<00:00, 213.21it/s]\n",
      "Epoch 108/400 Training: 100%|██████████| 235/235 [00:01<00:00, 213.63it/s]\n",
      "Epoch 109/400 Training: 100%|██████████| 235/235 [00:01<00:00, 216.73it/s]\n",
      "Epoch 110/400 Training: 100%|██████████| 235/235 [00:00<00:00, 235.36it/s]\n",
      "Epoch 111/400 Training: 100%|██████████| 235/235 [00:00<00:00, 235.76it/s]\n",
      "Epoch 111/400 Validation: 100%|██████████| 27/27 [00:00<00:00, 486.76it/s]\n"
     ]
    },
    {
     "name": "stdout",
     "output_type": "stream",
     "text": [
      "Epoch 111, Validation RMSE: 0.00043486777576617897\n",
      "New best model with RMSE: 0.00043486777576617897, saving model...\n"
     ]
    },
    {
     "name": "stderr",
     "output_type": "stream",
     "text": [
      "Epoch 112/400 Training: 100%|██████████| 235/235 [00:00<00:00, 237.54it/s]\n",
      "Epoch 113/400 Training: 100%|██████████| 235/235 [00:00<00:00, 238.17it/s]\n",
      "Epoch 114/400 Training: 100%|██████████| 235/235 [00:00<00:00, 237.44it/s]\n",
      "Epoch 115/400 Training: 100%|██████████| 235/235 [00:00<00:00, 235.15it/s]\n",
      "Epoch 116/400 Training: 100%|██████████| 235/235 [00:01<00:00, 215.36it/s]\n",
      "Epoch 116/400 Validation: 100%|██████████| 27/27 [00:00<00:00, 438.34it/s]\n"
     ]
    },
    {
     "name": "stdout",
     "output_type": "stream",
     "text": [
      "Epoch 116, Validation RMSE: 0.00043897086288779974\n"
     ]
    },
    {
     "name": "stderr",
     "output_type": "stream",
     "text": [
      "Epoch 117/400 Training: 100%|██████████| 235/235 [00:01<00:00, 220.77it/s]\n",
      "Epoch 118/400 Training: 100%|██████████| 235/235 [00:01<00:00, 217.41it/s]\n",
      "Epoch 119/400 Training: 100%|██████████| 235/235 [00:01<00:00, 213.85it/s]\n",
      "Epoch 120/400 Training: 100%|██████████| 235/235 [00:01<00:00, 212.96it/s]\n",
      "Epoch 121/400 Training: 100%|██████████| 235/235 [00:01<00:00, 214.13it/s]\n",
      "Epoch 121/400 Validation: 100%|██████████| 27/27 [00:00<00:00, 510.72it/s]\n"
     ]
    },
    {
     "name": "stdout",
     "output_type": "stream",
     "text": [
      "Epoch 121, Validation RMSE: 0.0011610828805714846\n"
     ]
    },
    {
     "name": "stderr",
     "output_type": "stream",
     "text": [
      "Epoch 122/400 Training: 100%|██████████| 235/235 [00:01<00:00, 213.26it/s]\n",
      "Epoch 123/400 Training: 100%|██████████| 235/235 [00:01<00:00, 226.86it/s]\n",
      "Epoch 124/400 Training: 100%|██████████| 235/235 [00:01<00:00, 228.40it/s]\n",
      "Epoch 125/400 Training: 100%|██████████| 235/235 [00:01<00:00, 227.84it/s]\n",
      "Epoch 126/400 Training: 100%|██████████| 235/235 [00:01<00:00, 225.23it/s]\n",
      "Epoch 126/400 Validation: 100%|██████████| 27/27 [00:00<00:00, 510.47it/s]\n"
     ]
    },
    {
     "name": "stdout",
     "output_type": "stream",
     "text": [
      "Epoch 126, Validation RMSE: 0.00038871276774443686\n",
      "New best model with RMSE: 0.00038871276774443686, saving model...\n"
     ]
    },
    {
     "name": "stderr",
     "output_type": "stream",
     "text": [
      "Epoch 127/400 Training: 100%|██████████| 235/235 [00:01<00:00, 226.60it/s]\n",
      "Epoch 128/400 Training: 100%|██████████| 235/235 [00:01<00:00, 226.41it/s]\n",
      "Epoch 129/400 Training: 100%|██████████| 235/235 [00:01<00:00, 223.02it/s]\n",
      "Epoch 130/400 Training: 100%|██████████| 235/235 [00:01<00:00, 228.69it/s]\n",
      "Epoch 131/400 Training: 100%|██████████| 235/235 [00:00<00:00, 241.80it/s]\n",
      "Epoch 131/400 Validation: 100%|██████████| 27/27 [00:00<00:00, 467.55it/s]\n"
     ]
    },
    {
     "name": "stdout",
     "output_type": "stream",
     "text": [
      "Epoch 131, Validation RMSE: 0.00040224535041488707\n"
     ]
    },
    {
     "name": "stderr",
     "output_type": "stream",
     "text": [
      "Epoch 132/400 Training: 100%|██████████| 235/235 [00:00<00:00, 238.03it/s]\n",
      "Epoch 133/400 Training: 100%|██████████| 235/235 [00:00<00:00, 239.71it/s]\n",
      "Epoch 134/400 Training: 100%|██████████| 235/235 [00:00<00:00, 237.96it/s]\n",
      "Epoch 135/400 Training: 100%|██████████| 235/235 [00:00<00:00, 237.75it/s]\n",
      "Epoch 136/400 Training: 100%|██████████| 235/235 [00:00<00:00, 240.45it/s]\n",
      "Epoch 136/400 Validation: 100%|██████████| 27/27 [00:00<00:00, 509.53it/s]\n"
     ]
    },
    {
     "name": "stdout",
     "output_type": "stream",
     "text": [
      "Epoch 136, Validation RMSE: 0.00035991196637041867\n",
      "New best model with RMSE: 0.00035991196637041867, saving model...\n"
     ]
    },
    {
     "name": "stderr",
     "output_type": "stream",
     "text": [
      "Epoch 137/400 Training: 100%|██████████| 235/235 [00:00<00:00, 239.60it/s]\n",
      "Epoch 138/400 Training: 100%|██████████| 235/235 [00:00<00:00, 240.84it/s]\n",
      "Epoch 139/400 Training: 100%|██████████| 235/235 [00:01<00:00, 234.79it/s]\n",
      "Epoch 140/400 Training: 100%|██████████| 235/235 [00:01<00:00, 224.38it/s]\n",
      "Epoch 141/400 Training: 100%|██████████| 235/235 [00:01<00:00, 222.70it/s]\n",
      "Epoch 141/400 Validation: 100%|██████████| 27/27 [00:00<00:00, 541.80it/s]\n"
     ]
    },
    {
     "name": "stdout",
     "output_type": "stream",
     "text": [
      "Epoch 141, Validation RMSE: 0.00038710329681634903\n"
     ]
    },
    {
     "name": "stderr",
     "output_type": "stream",
     "text": [
      "Epoch 142/400 Training: 100%|██████████| 235/235 [00:01<00:00, 219.84it/s]\n",
      "Epoch 143/400 Training: 100%|██████████| 235/235 [00:01<00:00, 214.89it/s]\n",
      "Epoch 144/400 Training: 100%|██████████| 235/235 [00:01<00:00, 210.42it/s]\n",
      "Epoch 145/400 Training: 100%|██████████| 235/235 [00:01<00:00, 211.77it/s]\n",
      "Epoch 146/400 Training: 100%|██████████| 235/235 [00:01<00:00, 211.93it/s]\n",
      "Epoch 146/400 Validation: 100%|██████████| 27/27 [00:00<00:00, 488.01it/s]\n"
     ]
    },
    {
     "name": "stdout",
     "output_type": "stream",
     "text": [
      "Epoch 146, Validation RMSE: 0.00037600102950818837\n"
     ]
    },
    {
     "name": "stderr",
     "output_type": "stream",
     "text": [
      "Epoch 147/400 Training: 100%|██████████| 235/235 [00:01<00:00, 211.58it/s]\n",
      "Epoch 148/400 Training: 100%|██████████| 235/235 [00:01<00:00, 211.53it/s]\n",
      "Epoch 149/400 Training: 100%|██████████| 235/235 [00:01<00:00, 211.36it/s]\n",
      "Epoch 150/400 Training: 100%|██████████| 235/235 [00:01<00:00, 227.48it/s]\n",
      "Epoch 151/400 Training: 100%|██████████| 235/235 [00:00<00:00, 238.90it/s]\n",
      "Epoch 151/400 Validation: 100%|██████████| 27/27 [00:00<00:00, 465.60it/s]\n"
     ]
    },
    {
     "name": "stdout",
     "output_type": "stream",
     "text": [
      "Epoch 151, Validation RMSE: 0.00035999639658257365\n"
     ]
    },
    {
     "name": "stderr",
     "output_type": "stream",
     "text": [
      "Epoch 152/400 Training: 100%|██████████| 235/235 [00:00<00:00, 238.53it/s]\n",
      "Epoch 153/400 Training: 100%|██████████| 235/235 [00:00<00:00, 241.17it/s]\n",
      "Epoch 154/400 Training: 100%|██████████| 235/235 [00:00<00:00, 238.19it/s]\n",
      "Epoch 155/400 Training: 100%|██████████| 235/235 [00:00<00:00, 240.44it/s]\n",
      "Epoch 156/400 Training: 100%|██████████| 235/235 [00:00<00:00, 240.71it/s]\n",
      "Epoch 156/400 Validation: 100%|██████████| 27/27 [00:00<00:00, 479.85it/s]\n"
     ]
    },
    {
     "name": "stdout",
     "output_type": "stream",
     "text": [
      "Epoch 156, Validation RMSE: 0.00036097888369113207\n"
     ]
    },
    {
     "name": "stderr",
     "output_type": "stream",
     "text": [
      "Epoch 157/400 Training: 100%|██████████| 235/235 [00:01<00:00, 227.59it/s]\n",
      "Epoch 158/400 Training: 100%|██████████| 235/235 [00:01<00:00, 228.30it/s]\n",
      "Epoch 159/400 Training: 100%|██████████| 235/235 [00:01<00:00, 227.17it/s]\n",
      "Epoch 160/400 Training: 100%|██████████| 235/235 [00:01<00:00, 215.94it/s]\n",
      "Epoch 161/400 Training: 100%|██████████| 235/235 [00:01<00:00, 216.93it/s]\n",
      "Epoch 161/400 Validation: 100%|██████████| 27/27 [00:00<00:00, 412.07it/s]\n"
     ]
    },
    {
     "name": "stdout",
     "output_type": "stream",
     "text": [
      "Epoch 161, Validation RMSE: 0.00033203899511136115\n",
      "New best model with RMSE: 0.00033203899511136115, saving model...\n"
     ]
    },
    {
     "name": "stderr",
     "output_type": "stream",
     "text": [
      "Epoch 162/400 Training: 100%|██████████| 235/235 [00:01<00:00, 215.57it/s]\n",
      "Epoch 163/400 Training: 100%|██████████| 235/235 [00:01<00:00, 216.69it/s]\n",
      "Epoch 164/400 Training: 100%|██████████| 235/235 [00:01<00:00, 233.66it/s]\n",
      "Epoch 165/400 Training: 100%|██████████| 235/235 [00:01<00:00, 234.65it/s]\n",
      "Epoch 166/400 Training: 100%|██████████| 235/235 [00:01<00:00, 230.84it/s]\n",
      "Epoch 166/400 Validation: 100%|██████████| 27/27 [00:00<00:00, 482.43it/s]\n"
     ]
    },
    {
     "name": "stdout",
     "output_type": "stream",
     "text": [
      "Epoch 166, Validation RMSE: 0.0005872600595466793\n"
     ]
    },
    {
     "name": "stderr",
     "output_type": "stream",
     "text": [
      "Epoch 167/400 Training: 100%|██████████| 235/235 [00:00<00:00, 236.59it/s]\n",
      "Epoch 168/400 Training: 100%|██████████| 235/235 [00:01<00:00, 228.72it/s]\n",
      "Epoch 169/400 Training: 100%|██████████| 235/235 [00:00<00:00, 237.33it/s]\n",
      "Epoch 170/400 Training: 100%|██████████| 235/235 [00:01<00:00, 232.01it/s]\n",
      "Epoch 171/400 Training: 100%|██████████| 235/235 [00:01<00:00, 226.94it/s]\n",
      "Epoch 171/400 Validation: 100%|██████████| 27/27 [00:00<00:00, 463.13it/s]\n"
     ]
    },
    {
     "name": "stdout",
     "output_type": "stream",
     "text": [
      "Epoch 171, Validation RMSE: 0.00031450725509785116\n",
      "New best model with RMSE: 0.00031450725509785116, saving model...\n"
     ]
    },
    {
     "name": "stderr",
     "output_type": "stream",
     "text": [
      "Epoch 172/400 Training: 100%|██████████| 235/235 [00:01<00:00, 229.90it/s]\n",
      "Epoch 173/400 Training: 100%|██████████| 235/235 [00:01<00:00, 229.31it/s]\n",
      "Epoch 174/400 Training: 100%|██████████| 235/235 [00:01<00:00, 229.92it/s]\n",
      "Epoch 175/400 Training: 100%|██████████| 235/235 [00:01<00:00, 228.23it/s]\n",
      "Epoch 176/400 Training: 100%|██████████| 235/235 [00:01<00:00, 229.23it/s]\n",
      "Epoch 176/400 Validation: 100%|██████████| 27/27 [00:00<00:00, 376.52it/s]\n"
     ]
    },
    {
     "name": "stdout",
     "output_type": "stream",
     "text": [
      "Epoch 176, Validation RMSE: 0.0003356641682330519\n"
     ]
    },
    {
     "name": "stderr",
     "output_type": "stream",
     "text": [
      "Epoch 177/400 Training: 100%|██████████| 235/235 [00:00<00:00, 236.53it/s]\n",
      "Epoch 178/400 Training: 100%|██████████| 235/235 [00:00<00:00, 243.38it/s]\n",
      "Epoch 179/400 Training: 100%|██████████| 235/235 [00:01<00:00, 221.87it/s]\n",
      "Epoch 180/400 Training: 100%|██████████| 235/235 [00:01<00:00, 217.46it/s]\n",
      "Epoch 181/400 Training: 100%|██████████| 235/235 [00:01<00:00, 217.40it/s]\n",
      "Epoch 181/400 Validation: 100%|██████████| 27/27 [00:00<00:00, 501.19it/s]\n"
     ]
    },
    {
     "name": "stdout",
     "output_type": "stream",
     "text": [
      "Epoch 181, Validation RMSE: 0.0003073785628657788\n",
      "New best model with RMSE: 0.0003073785628657788, saving model...\n"
     ]
    },
    {
     "name": "stderr",
     "output_type": "stream",
     "text": [
      "Epoch 182/400 Training: 100%|██████████| 235/235 [00:01<00:00, 215.04it/s]\n",
      "Epoch 183/400 Training: 100%|██████████| 235/235 [00:01<00:00, 213.95it/s]\n",
      "Epoch 184/400 Training: 100%|██████████| 235/235 [00:01<00:00, 217.35it/s]\n",
      "Epoch 185/400 Training: 100%|██████████| 235/235 [00:01<00:00, 216.67it/s]\n",
      "Epoch 186/400 Training: 100%|██████████| 235/235 [00:01<00:00, 216.05it/s]\n",
      "Epoch 186/400 Validation: 100%|██████████| 27/27 [00:00<00:00, 515.66it/s]\n"
     ]
    },
    {
     "name": "stdout",
     "output_type": "stream",
     "text": [
      "Epoch 186, Validation RMSE: 0.00033701767097227275\n"
     ]
    },
    {
     "name": "stderr",
     "output_type": "stream",
     "text": [
      "Epoch 187/400 Training: 100%|██████████| 235/235 [00:01<00:00, 213.93it/s]\n",
      "Epoch 188/400 Training: 100%|██████████| 235/235 [00:01<00:00, 213.73it/s]\n",
      "Epoch 189/400 Training: 100%|██████████| 235/235 [00:01<00:00, 215.98it/s]\n",
      "Epoch 190/400 Training: 100%|██████████| 235/235 [00:01<00:00, 225.79it/s]\n",
      "Epoch 191/400 Training: 100%|██████████| 235/235 [00:01<00:00, 228.12it/s]\n",
      "Epoch 191/400 Validation: 100%|██████████| 27/27 [00:00<00:00, 516.29it/s]\n"
     ]
    },
    {
     "name": "stdout",
     "output_type": "stream",
     "text": [
      "Epoch 191, Validation RMSE: 0.00029785442166030407\n",
      "New best model with RMSE: 0.00029785442166030407, saving model...\n"
     ]
    },
    {
     "name": "stderr",
     "output_type": "stream",
     "text": [
      "Epoch 192/400 Training: 100%|██████████| 235/235 [00:00<00:00, 236.85it/s]\n",
      "Epoch 193/400 Training: 100%|██████████| 235/235 [00:00<00:00, 236.16it/s]\n",
      "Epoch 194/400 Training: 100%|██████████| 235/235 [00:00<00:00, 236.98it/s]\n",
      "Epoch 195/400 Training: 100%|██████████| 235/235 [00:00<00:00, 240.56it/s]\n",
      "Epoch 196/400 Training: 100%|██████████| 235/235 [00:00<00:00, 239.05it/s]\n",
      "Epoch 196/400 Validation: 100%|██████████| 27/27 [00:00<00:00, 438.90it/s]\n"
     ]
    },
    {
     "name": "stdout",
     "output_type": "stream",
     "text": [
      "Epoch 196, Validation RMSE: 0.0003133365826215595\n"
     ]
    },
    {
     "name": "stderr",
     "output_type": "stream",
     "text": [
      "Epoch 197/400 Training: 100%|██████████| 235/235 [00:00<00:00, 238.92it/s]\n",
      "Epoch 198/400 Training: 100%|██████████| 235/235 [00:01<00:00, 218.50it/s]\n",
      "Epoch 199/400 Training: 100%|██████████| 235/235 [00:01<00:00, 220.44it/s]\n",
      "Epoch 200/400 Training: 100%|██████████| 235/235 [00:01<00:00, 214.62it/s]\n",
      "Epoch 201/400 Training: 100%|██████████| 235/235 [00:01<00:00, 215.53it/s]\n",
      "Epoch 201/400 Validation: 100%|██████████| 27/27 [00:00<00:00, 496.04it/s]\n"
     ]
    },
    {
     "name": "stdout",
     "output_type": "stream",
     "text": [
      "Epoch 201, Validation RMSE: 0.0002978720294777304\n"
     ]
    },
    {
     "name": "stderr",
     "output_type": "stream",
     "text": [
      "Epoch 202/400 Training: 100%|██████████| 235/235 [00:01<00:00, 214.20it/s]\n",
      "Epoch 203/400 Training: 100%|██████████| 235/235 [00:01<00:00, 213.87it/s]\n",
      "Epoch 204/400 Training: 100%|██████████| 235/235 [00:01<00:00, 213.81it/s]\n",
      "Epoch 205/400 Training: 100%|██████████| 235/235 [00:01<00:00, 228.12it/s]\n",
      "Epoch 206/400 Training: 100%|██████████| 235/235 [00:01<00:00, 223.47it/s]\n",
      "Epoch 206/400 Validation: 100%|██████████| 27/27 [00:00<00:00, 461.10it/s]\n"
     ]
    },
    {
     "name": "stdout",
     "output_type": "stream",
     "text": [
      "Epoch 206, Validation RMSE: 0.0002789224963635206\n",
      "New best model with RMSE: 0.0002789224963635206, saving model...\n"
     ]
    },
    {
     "name": "stderr",
     "output_type": "stream",
     "text": [
      "Epoch 207/400 Training: 100%|██████████| 235/235 [00:01<00:00, 228.80it/s]\n",
      "Epoch 208/400 Training: 100%|██████████| 235/235 [00:01<00:00, 226.78it/s]\n",
      "Epoch 209/400 Training: 100%|██████████| 235/235 [00:01<00:00, 223.90it/s]\n",
      "Epoch 210/400 Training: 100%|██████████| 235/235 [00:00<00:00, 240.95it/s]\n",
      "Epoch 211/400 Training: 100%|██████████| 235/235 [00:00<00:00, 242.15it/s]\n",
      "Epoch 211/400 Validation: 100%|██████████| 27/27 [00:00<00:00, 510.67it/s]\n"
     ]
    },
    {
     "name": "stdout",
     "output_type": "stream",
     "text": [
      "Epoch 211, Validation RMSE: 0.0002965608728118241\n"
     ]
    },
    {
     "name": "stderr",
     "output_type": "stream",
     "text": [
      "Epoch 212/400 Training: 100%|██████████| 235/235 [00:00<00:00, 238.66it/s]\n",
      "Epoch 213/400 Training: 100%|██████████| 235/235 [00:00<00:00, 240.28it/s]\n",
      "Epoch 214/400 Training: 100%|██████████| 235/235 [00:00<00:00, 236.43it/s]\n",
      "Epoch 215/400 Training: 100%|██████████| 235/235 [00:00<00:00, 238.13it/s]\n",
      "Epoch 216/400 Training: 100%|██████████| 235/235 [00:00<00:00, 241.50it/s]\n",
      "Epoch 216/400 Validation: 100%|██████████| 27/27 [00:00<00:00, 497.36it/s]\n"
     ]
    },
    {
     "name": "stdout",
     "output_type": "stream",
     "text": [
      "Epoch 216, Validation RMSE: 0.0003490135131869465\n"
     ]
    },
    {
     "name": "stderr",
     "output_type": "stream",
     "text": [
      "Epoch 217/400 Training: 100%|██████████| 235/235 [00:00<00:00, 241.09it/s]\n",
      "Epoch 218/400 Training: 100%|██████████| 235/235 [00:00<00:00, 238.27it/s]\n",
      "Epoch 219/400 Training: 100%|██████████| 235/235 [00:01<00:00, 223.54it/s]\n",
      "Epoch 220/400 Training: 100%|██████████| 235/235 [00:01<00:00, 225.19it/s]\n",
      "Epoch 221/400 Training: 100%|██████████| 235/235 [00:01<00:00, 221.23it/s]\n",
      "Epoch 221/400 Validation: 100%|██████████| 27/27 [00:00<00:00, 500.42it/s]\n"
     ]
    },
    {
     "name": "stdout",
     "output_type": "stream",
     "text": [
      "Epoch 221, Validation RMSE: 0.00030546836205758154\n"
     ]
    },
    {
     "name": "stderr",
     "output_type": "stream",
     "text": [
      "Epoch 222/400 Training: 100%|██████████| 235/235 [00:01<00:00, 219.89it/s]\n",
      "Epoch 223/400 Training: 100%|██████████| 235/235 [00:01<00:00, 223.41it/s]\n",
      "Epoch 224/400 Training: 100%|██████████| 235/235 [00:01<00:00, 216.28it/s]\n",
      "Epoch 225/400 Training: 100%|██████████| 235/235 [00:01<00:00, 212.46it/s]\n",
      "Epoch 226/400 Training: 100%|██████████| 235/235 [00:01<00:00, 210.87it/s]\n",
      "Epoch 226/400 Validation: 100%|██████████| 27/27 [00:00<00:00, 488.83it/s]\n"
     ]
    },
    {
     "name": "stdout",
     "output_type": "stream",
     "text": [
      "Epoch 226, Validation RMSE: 0.0002750161802396178\n",
      "New best model with RMSE: 0.0002750161802396178, saving model...\n"
     ]
    },
    {
     "name": "stderr",
     "output_type": "stream",
     "text": [
      "Epoch 227/400 Training: 100%|██████████| 235/235 [00:01<00:00, 221.85it/s]\n",
      "Epoch 228/400 Training: 100%|██████████| 235/235 [00:01<00:00, 211.15it/s]\n",
      "Epoch 229/400 Training: 100%|██████████| 235/235 [00:01<00:00, 214.53it/s]\n",
      "Epoch 230/400 Training: 100%|██████████| 235/235 [00:01<00:00, 219.06it/s]\n",
      "Epoch 231/400 Training: 100%|██████████| 235/235 [00:01<00:00, 216.50it/s]\n",
      "Epoch 231/400 Validation: 100%|██████████| 27/27 [00:00<00:00, 334.00it/s]\n"
     ]
    },
    {
     "name": "stdout",
     "output_type": "stream",
     "text": [
      "Epoch 231, Validation RMSE: 0.00026798105682246387\n",
      "New best model with RMSE: 0.00026798105682246387, saving model...\n"
     ]
    },
    {
     "name": "stderr",
     "output_type": "stream",
     "text": [
      "Epoch 232/400 Training: 100%|██████████| 235/235 [00:01<00:00, 231.04it/s]\n",
      "Epoch 233/400 Training: 100%|██████████| 235/235 [00:00<00:00, 242.15it/s]\n",
      "Epoch 234/400 Training: 100%|██████████| 235/235 [00:00<00:00, 241.53it/s]\n",
      "Epoch 235/400 Training: 100%|██████████| 235/235 [00:00<00:00, 241.70it/s]\n",
      "Epoch 236/400 Training: 100%|██████████| 235/235 [00:00<00:00, 241.39it/s]\n",
      "Epoch 236/400 Validation: 100%|██████████| 27/27 [00:00<00:00, 520.45it/s]\n"
     ]
    },
    {
     "name": "stdout",
     "output_type": "stream",
     "text": [
      "Epoch 236, Validation RMSE: 0.00028059346368536353\n"
     ]
    },
    {
     "name": "stderr",
     "output_type": "stream",
     "text": [
      "Epoch 237/400 Training: 100%|██████████| 235/235 [00:00<00:00, 240.14it/s]\n",
      "Epoch 238/400 Training: 100%|██████████| 235/235 [00:00<00:00, 238.95it/s]\n",
      "Epoch 239/400 Training: 100%|██████████| 235/235 [00:01<00:00, 220.71it/s]\n",
      "Epoch 240/400 Training: 100%|██████████| 235/235 [00:01<00:00, 214.75it/s]\n",
      "Epoch 241/400 Training: 100%|██████████| 235/235 [00:01<00:00, 214.81it/s]\n",
      "Epoch 241/400 Validation: 100%|██████████| 27/27 [00:00<00:00, 481.00it/s]\n"
     ]
    },
    {
     "name": "stdout",
     "output_type": "stream",
     "text": [
      "Epoch 241, Validation RMSE: 0.00026600793353281915\n",
      "New best model with RMSE: 0.00026600793353281915, saving model...\n"
     ]
    },
    {
     "name": "stderr",
     "output_type": "stream",
     "text": [
      "Epoch 242/400 Training: 100%|██████████| 235/235 [00:01<00:00, 216.93it/s]\n",
      "Epoch 243/400 Training: 100%|██████████| 235/235 [00:01<00:00, 216.58it/s]\n",
      "Epoch 244/400 Training: 100%|██████████| 235/235 [00:01<00:00, 215.49it/s]\n",
      "Epoch 245/400 Training: 100%|██████████| 235/235 [00:01<00:00, 216.00it/s]\n",
      "Epoch 246/400 Training: 100%|██████████| 235/235 [00:01<00:00, 231.75it/s]\n",
      "Epoch 246/400 Validation: 100%|██████████| 27/27 [00:00<00:00, 350.88it/s]\n"
     ]
    },
    {
     "name": "stdout",
     "output_type": "stream",
     "text": [
      "Epoch 246, Validation RMSE: 0.00029119011014699936\n"
     ]
    },
    {
     "name": "stderr",
     "output_type": "stream",
     "text": [
      "Epoch 247/400 Training: 100%|██████████| 235/235 [00:00<00:00, 236.32it/s]\n",
      "Epoch 248/400 Training: 100%|██████████| 235/235 [00:00<00:00, 235.09it/s]\n",
      "Epoch 249/400 Training: 100%|██████████| 235/235 [00:01<00:00, 234.22it/s]\n",
      "Epoch 250/400 Training: 100%|██████████| 235/235 [00:00<00:00, 239.61it/s]\n",
      "Epoch 251/400 Training: 100%|██████████| 235/235 [00:00<00:00, 239.05it/s]\n",
      "Epoch 251/400 Validation: 100%|██████████| 27/27 [00:00<00:00, 489.02it/s]\n"
     ]
    },
    {
     "name": "stdout",
     "output_type": "stream",
     "text": [
      "Epoch 251, Validation RMSE: 0.00026904483092948794\n"
     ]
    },
    {
     "name": "stderr",
     "output_type": "stream",
     "text": [
      "Epoch 252/400 Training: 100%|██████████| 235/235 [00:01<00:00, 232.83it/s]\n",
      "Epoch 253/400 Training: 100%|██████████| 235/235 [00:01<00:00, 222.35it/s]\n",
      "Epoch 254/400 Training: 100%|██████████| 235/235 [00:01<00:00, 226.72it/s]\n",
      "Epoch 255/400 Training: 100%|██████████| 235/235 [00:01<00:00, 225.62it/s]\n",
      "Epoch 256/400 Training: 100%|██████████| 235/235 [00:01<00:00, 225.67it/s]\n",
      "Epoch 256/400 Validation: 100%|██████████| 27/27 [00:00<00:00, 452.48it/s]\n"
     ]
    },
    {
     "name": "stdout",
     "output_type": "stream",
     "text": [
      "Epoch 256, Validation RMSE: 0.00028521704371087253\n"
     ]
    },
    {
     "name": "stderr",
     "output_type": "stream",
     "text": [
      "Epoch 257/400 Training: 100%|██████████| 235/235 [00:01<00:00, 230.05it/s]\n",
      "Epoch 258/400 Training: 100%|██████████| 235/235 [00:01<00:00, 226.60it/s]\n",
      "Epoch 259/400 Training: 100%|██████████| 235/235 [00:01<00:00, 211.54it/s]\n",
      "Epoch 260/400 Training: 100%|██████████| 235/235 [00:01<00:00, 220.14it/s]\n",
      "Epoch 261/400 Training: 100%|██████████| 235/235 [00:01<00:00, 219.38it/s]\n",
      "Epoch 261/400 Validation: 100%|██████████| 27/27 [00:00<00:00, 493.46it/s]\n"
     ]
    },
    {
     "name": "stdout",
     "output_type": "stream",
     "text": [
      "Epoch 261, Validation RMSE: 0.00028891413239762187\n"
     ]
    },
    {
     "name": "stderr",
     "output_type": "stream",
     "text": [
      "Epoch 262/400 Training: 100%|██████████| 235/235 [00:01<00:00, 215.85it/s]\n",
      "Epoch 263/400 Training: 100%|██████████| 235/235 [00:01<00:00, 215.01it/s]\n",
      "Epoch 264/400 Training: 100%|██████████| 235/235 [00:01<00:00, 216.28it/s]\n",
      "Epoch 265/400 Training: 100%|██████████| 235/235 [00:01<00:00, 216.49it/s]\n",
      "Epoch 266/400 Training: 100%|██████████| 235/235 [00:01<00:00, 217.81it/s]\n",
      "Epoch 266/400 Validation: 100%|██████████| 27/27 [00:00<00:00, 485.86it/s]\n"
     ]
    },
    {
     "name": "stdout",
     "output_type": "stream",
     "text": [
      "Epoch 266, Validation RMSE: 0.0002652754192240536\n",
      "New best model with RMSE: 0.0002652754192240536, saving model...\n"
     ]
    },
    {
     "name": "stderr",
     "output_type": "stream",
     "text": [
      "Epoch 267/400 Training: 100%|██████████| 235/235 [00:01<00:00, 216.02it/s]\n",
      "Epoch 268/400 Training: 100%|██████████| 235/235 [00:01<00:00, 215.77it/s]\n",
      "Epoch 269/400 Training: 100%|██████████| 235/235 [00:01<00:00, 218.97it/s]\n",
      "Epoch 270/400 Training: 100%|██████████| 235/235 [00:01<00:00, 232.09it/s]\n",
      "Epoch 271/400 Training: 100%|██████████| 235/235 [00:01<00:00, 231.29it/s]\n",
      "Epoch 271/400 Validation: 100%|██████████| 27/27 [00:00<00:00, 457.66it/s]\n"
     ]
    },
    {
     "name": "stdout",
     "output_type": "stream",
     "text": [
      "Epoch 271, Validation RMSE: 0.00025838904548436403\n",
      "New best model with RMSE: 0.00025838904548436403, saving model...\n"
     ]
    },
    {
     "name": "stderr",
     "output_type": "stream",
     "text": [
      "Epoch 272/400 Training: 100%|██████████| 235/235 [00:01<00:00, 228.17it/s]\n",
      "Epoch 273/400 Training: 100%|██████████| 235/235 [00:01<00:00, 232.47it/s]\n",
      "Epoch 274/400 Training: 100%|██████████| 235/235 [00:00<00:00, 238.31it/s]\n",
      "Epoch 275/400 Training: 100%|██████████| 235/235 [00:00<00:00, 239.19it/s]\n",
      "Epoch 276/400 Training: 100%|██████████| 235/235 [00:00<00:00, 238.36it/s]\n",
      "Epoch 276/400 Validation: 100%|██████████| 27/27 [00:00<00:00, 500.50it/s]\n"
     ]
    },
    {
     "name": "stdout",
     "output_type": "stream",
     "text": [
      "Epoch 276, Validation RMSE: 0.00026039514341391623\n"
     ]
    },
    {
     "name": "stderr",
     "output_type": "stream",
     "text": [
      "Epoch 277/400 Training: 100%|██████████| 235/235 [00:00<00:00, 238.61it/s]\n",
      "Epoch 278/400 Training: 100%|██████████| 235/235 [00:00<00:00, 237.95it/s]\n",
      "Epoch 279/400 Training: 100%|██████████| 235/235 [00:01<00:00, 234.62it/s]\n",
      "Epoch 280/400 Training: 100%|██████████| 235/235 [00:01<00:00, 212.29it/s]\n",
      "Epoch 281/400 Training: 100%|██████████| 235/235 [00:01<00:00, 215.38it/s]\n",
      "Epoch 281/400 Validation: 100%|██████████| 27/27 [00:00<00:00, 382.70it/s]\n"
     ]
    },
    {
     "name": "stdout",
     "output_type": "stream",
     "text": [
      "Epoch 281, Validation RMSE: 0.00025406834902241826\n",
      "New best model with RMSE: 0.00025406834902241826, saving model...\n"
     ]
    },
    {
     "name": "stderr",
     "output_type": "stream",
     "text": [
      "Epoch 282/400 Training: 100%|██████████| 235/235 [00:01<00:00, 214.34it/s]\n",
      "Epoch 283/400 Training: 100%|██████████| 235/235 [00:01<00:00, 215.65it/s]\n",
      "Epoch 284/400 Training: 100%|██████████| 235/235 [00:01<00:00, 214.06it/s]\n",
      "Epoch 285/400 Training: 100%|██████████| 235/235 [00:01<00:00, 216.98it/s]\n",
      "Epoch 286/400 Training: 100%|██████████| 235/235 [00:01<00:00, 216.02it/s]\n",
      "Epoch 286/400 Validation: 100%|██████████| 27/27 [00:00<00:00, 345.84it/s]\n"
     ]
    },
    {
     "name": "stdout",
     "output_type": "stream",
     "text": [
      "Epoch 286, Validation RMSE: 0.0002388977591181174\n",
      "New best model with RMSE: 0.0002388977591181174, saving model...\n"
     ]
    },
    {
     "name": "stderr",
     "output_type": "stream",
     "text": [
      "Epoch 287/400 Training: 100%|██████████| 235/235 [00:01<00:00, 229.61it/s]\n",
      "Epoch 288/400 Training: 100%|██████████| 235/235 [00:01<00:00, 228.93it/s]\n",
      "Epoch 289/400 Training: 100%|██████████| 235/235 [00:01<00:00, 230.44it/s]\n",
      "Epoch 290/400 Training: 100%|██████████| 235/235 [00:00<00:00, 243.27it/s]\n",
      "Epoch 291/400 Training: 100%|██████████| 235/235 [00:00<00:00, 241.20it/s]\n",
      "Epoch 291/400 Validation: 100%|██████████| 27/27 [00:00<00:00, 457.43it/s]\n"
     ]
    },
    {
     "name": "stdout",
     "output_type": "stream",
     "text": [
      "Epoch 291, Validation RMSE: 0.00024249278067145497\n"
     ]
    },
    {
     "name": "stderr",
     "output_type": "stream",
     "text": [
      "Epoch 292/400 Training: 100%|██████████| 235/235 [00:00<00:00, 239.04it/s]\n",
      "Epoch 293/400 Training: 100%|██████████| 235/235 [00:00<00:00, 242.08it/s]\n",
      "Epoch 294/400 Training: 100%|██████████| 235/235 [00:00<00:00, 240.16it/s]\n",
      "Epoch 295/400 Training: 100%|██████████| 235/235 [00:00<00:00, 239.54it/s]\n",
      "Epoch 296/400 Training: 100%|██████████| 235/235 [00:00<00:00, 239.75it/s]\n",
      "Epoch 296/400 Validation: 100%|██████████| 27/27 [00:00<00:00, 509.14it/s]\n"
     ]
    },
    {
     "name": "stdout",
     "output_type": "stream",
     "text": [
      "Epoch 296, Validation RMSE: 0.00024688191479071975\n"
     ]
    },
    {
     "name": "stderr",
     "output_type": "stream",
     "text": [
      "Epoch 297/400 Training: 100%|██████████| 235/235 [00:00<00:00, 239.08it/s]\n",
      "Epoch 298/400 Training: 100%|██████████| 235/235 [00:00<00:00, 236.74it/s]\n",
      "Epoch 299/400 Training: 100%|██████████| 235/235 [00:01<00:00, 215.92it/s]\n",
      "Epoch 300/400 Training: 100%|██████████| 235/235 [00:01<00:00, 215.18it/s]\n",
      "Epoch 301/400 Training: 100%|██████████| 235/235 [00:01<00:00, 222.51it/s]\n",
      "Epoch 301/400 Validation: 100%|██████████| 27/27 [00:00<00:00, 492.23it/s]\n"
     ]
    },
    {
     "name": "stdout",
     "output_type": "stream",
     "text": [
      "Epoch 301, Validation RMSE: 0.0002642487525008619\n"
     ]
    },
    {
     "name": "stderr",
     "output_type": "stream",
     "text": [
      "Epoch 302/400 Training: 100%|██████████| 235/235 [00:01<00:00, 222.64it/s]\n",
      "Epoch 303/400 Training: 100%|██████████| 235/235 [00:01<00:00, 220.52it/s]\n",
      "Epoch 304/400 Training: 100%|██████████| 235/235 [00:01<00:00, 220.74it/s]\n",
      "Epoch 305/400 Training: 100%|██████████| 235/235 [00:01<00:00, 223.69it/s]\n",
      "Epoch 306/400 Training: 100%|██████████| 235/235 [00:01<00:00, 220.88it/s]\n",
      "Epoch 306/400 Validation: 100%|██████████| 27/27 [00:00<00:00, 538.89it/s]\n"
     ]
    },
    {
     "name": "stdout",
     "output_type": "stream",
     "text": [
      "Epoch 306, Validation RMSE: 0.000251235265750438\n"
     ]
    },
    {
     "name": "stderr",
     "output_type": "stream",
     "text": [
      "Epoch 307/400 Training: 100%|██████████| 235/235 [00:01<00:00, 215.17it/s]\n",
      "Epoch 308/400 Training: 100%|██████████| 235/235 [00:01<00:00, 213.35it/s]\n",
      "Epoch 309/400 Training: 100%|██████████| 235/235 [00:01<00:00, 217.20it/s]\n",
      "Epoch 310/400 Training: 100%|██████████| 235/235 [00:01<00:00, 219.68it/s]\n",
      "Epoch 311/400 Training: 100%|██████████| 235/235 [00:01<00:00, 218.70it/s]\n",
      "Epoch 311/400 Validation: 100%|██████████| 27/27 [00:00<00:00, 483.86it/s]\n"
     ]
    },
    {
     "name": "stdout",
     "output_type": "stream",
     "text": [
      "Epoch 311, Validation RMSE: 0.00026470719603821635\n"
     ]
    },
    {
     "name": "stderr",
     "output_type": "stream",
     "text": [
      "Epoch 312/400 Training: 100%|██████████| 235/235 [00:01<00:00, 214.59it/s]\n",
      "Epoch 313/400 Training: 100%|██████████| 235/235 [00:01<00:00, 220.65it/s]\n",
      "Epoch 314/400 Training: 100%|██████████| 235/235 [00:01<00:00, 228.16it/s]\n",
      "Epoch 315/400 Training: 100%|██████████| 235/235 [00:00<00:00, 240.51it/s]\n",
      "Epoch 316/400 Training: 100%|██████████| 235/235 [00:00<00:00, 240.72it/s]\n",
      "Epoch 316/400 Validation: 100%|██████████| 27/27 [00:00<00:00, 438.06it/s]\n"
     ]
    },
    {
     "name": "stdout",
     "output_type": "stream",
     "text": [
      "Epoch 316, Validation RMSE: 0.0002368767891312018\n",
      "New best model with RMSE: 0.0002368767891312018, saving model...\n"
     ]
    },
    {
     "name": "stderr",
     "output_type": "stream",
     "text": [
      "Epoch 317/400 Training: 100%|██████████| 235/235 [00:00<00:00, 239.02it/s]\n",
      "Epoch 318/400 Training: 100%|██████████| 235/235 [00:00<00:00, 240.92it/s]\n",
      "Epoch 319/400 Training: 100%|██████████| 235/235 [00:01<00:00, 226.74it/s]\n",
      "Epoch 320/400 Training: 100%|██████████| 235/235 [00:01<00:00, 227.30it/s]\n",
      "Epoch 321/400 Training: 100%|██████████| 235/235 [00:01<00:00, 215.84it/s]\n",
      "Epoch 321/400 Validation: 100%|██████████| 27/27 [00:00<00:00, 487.29it/s]\n"
     ]
    },
    {
     "name": "stdout",
     "output_type": "stream",
     "text": [
      "Epoch 321, Validation RMSE: 0.00023661319573875517\n",
      "New best model with RMSE: 0.00023661319573875517, saving model...\n"
     ]
    },
    {
     "name": "stderr",
     "output_type": "stream",
     "text": [
      "Epoch 322/400 Training: 100%|██████████| 235/235 [00:01<00:00, 215.81it/s]\n",
      "Epoch 323/400 Training: 100%|██████████| 235/235 [00:01<00:00, 216.46it/s]\n",
      "Epoch 324/400 Training: 100%|██████████| 235/235 [00:01<00:00, 215.21it/s]\n",
      "Epoch 325/400 Training: 100%|██████████| 235/235 [00:01<00:00, 215.40it/s]\n",
      "Epoch 326/400 Training: 100%|██████████| 235/235 [00:01<00:00, 214.10it/s]\n",
      "Epoch 326/400 Validation: 100%|██████████| 27/27 [00:00<00:00, 497.07it/s]\n"
     ]
    },
    {
     "name": "stdout",
     "output_type": "stream",
     "text": [
      "Epoch 326, Validation RMSE: 0.00023922343098092824\n"
     ]
    },
    {
     "name": "stderr",
     "output_type": "stream",
     "text": [
      "Epoch 327/400 Training: 100%|██████████| 235/235 [00:01<00:00, 217.55it/s]\n",
      "Epoch 328/400 Training: 100%|██████████| 235/235 [00:01<00:00, 227.74it/s]\n",
      "Epoch 329/400 Training: 100%|██████████| 235/235 [00:00<00:00, 238.04it/s]\n",
      "Epoch 330/400 Training: 100%|██████████| 235/235 [00:00<00:00, 237.52it/s]\n",
      "Epoch 331/400 Training: 100%|██████████| 235/235 [00:00<00:00, 238.78it/s]\n",
      "Epoch 331/400 Validation: 100%|██████████| 27/27 [00:00<00:00, 455.41it/s]\n"
     ]
    },
    {
     "name": "stdout",
     "output_type": "stream",
     "text": [
      "Epoch 331, Validation RMSE: 0.00025304273003712296\n"
     ]
    },
    {
     "name": "stderr",
     "output_type": "stream",
     "text": [
      "Epoch 332/400 Training: 100%|██████████| 235/235 [00:00<00:00, 236.44it/s]\n",
      "Epoch 333/400 Training: 100%|██████████| 235/235 [00:00<00:00, 239.50it/s]\n",
      "Epoch 334/400 Training: 100%|██████████| 235/235 [00:00<00:00, 235.82it/s]\n",
      "Epoch 335/400 Training: 100%|██████████| 235/235 [00:01<00:00, 233.56it/s]\n",
      "Epoch 336/400 Training: 100%|██████████| 235/235 [00:01<00:00, 224.68it/s]\n",
      "Epoch 336/400 Validation: 100%|██████████| 27/27 [00:00<00:00, 320.43it/s]\n"
     ]
    },
    {
     "name": "stdout",
     "output_type": "stream",
     "text": [
      "Epoch 336, Validation RMSE: 0.00024203446810133755\n"
     ]
    },
    {
     "name": "stderr",
     "output_type": "stream",
     "text": [
      "Epoch 337/400 Training: 100%|██████████| 235/235 [00:01<00:00, 225.05it/s]\n",
      "Epoch 338/400 Training: 100%|██████████| 235/235 [00:01<00:00, 226.04it/s]\n",
      "Epoch 339/400 Training: 100%|██████████| 235/235 [00:01<00:00, 211.27it/s]\n",
      "Epoch 340/400 Training: 100%|██████████| 235/235 [00:01<00:00, 211.98it/s]\n",
      "Epoch 341/400 Training: 100%|██████████| 235/235 [00:01<00:00, 213.30it/s]\n",
      "Epoch 341/400 Validation: 100%|██████████| 27/27 [00:00<00:00, 474.48it/s]\n"
     ]
    },
    {
     "name": "stdout",
     "output_type": "stream",
     "text": [
      "Epoch 341, Validation RMSE: 0.0002377202472416684\n"
     ]
    },
    {
     "name": "stderr",
     "output_type": "stream",
     "text": [
      "Epoch 342/400 Training: 100%|██████████| 235/235 [00:01<00:00, 212.46it/s]\n",
      "Epoch 343/400 Training: 100%|██████████| 235/235 [00:01<00:00, 214.94it/s]\n",
      "Epoch 344/400 Training: 100%|██████████| 235/235 [00:01<00:00, 217.13it/s]\n",
      "Epoch 345/400 Training: 100%|██████████| 235/235 [00:01<00:00, 217.27it/s]\n",
      "Epoch 346/400 Training: 100%|██████████| 235/235 [00:01<00:00, 216.98it/s]\n",
      "Epoch 346/400 Validation: 100%|██████████| 27/27 [00:00<00:00, 445.70it/s]\n"
     ]
    },
    {
     "name": "stdout",
     "output_type": "stream",
     "text": [
      "Epoch 346, Validation RMSE: 0.00024738372303545475\n"
     ]
    },
    {
     "name": "stderr",
     "output_type": "stream",
     "text": [
      "Epoch 347/400 Training: 100%|██████████| 235/235 [00:01<00:00, 215.43it/s]\n",
      "Epoch 348/400 Training: 100%|██████████| 235/235 [00:01<00:00, 218.81it/s]\n",
      "Epoch 349/400 Training: 100%|██████████| 235/235 [00:01<00:00, 226.97it/s]\n",
      "Epoch 350/400 Training: 100%|██████████| 235/235 [00:01<00:00, 227.57it/s]\n",
      "Epoch 351/400 Training: 100%|██████████| 235/235 [00:01<00:00, 229.28it/s]\n",
      "Epoch 351/400 Validation: 100%|██████████| 27/27 [00:00<00:00, 501.81it/s]\n"
     ]
    },
    {
     "name": "stdout",
     "output_type": "stream",
     "text": [
      "Epoch 351, Validation RMSE: 0.00022886002261657268\n",
      "New best model with RMSE: 0.00022886002261657268, saving model...\n"
     ]
    },
    {
     "name": "stderr",
     "output_type": "stream",
     "text": [
      "Epoch 352/400 Training: 100%|██████████| 235/235 [00:01<00:00, 225.55it/s]\n",
      "Epoch 353/400 Training: 100%|██████████| 235/235 [00:01<00:00, 229.73it/s]\n",
      "Epoch 354/400 Training: 100%|██████████| 235/235 [00:01<00:00, 232.25it/s]\n",
      "Epoch 355/400 Training: 100%|██████████| 235/235 [00:01<00:00, 227.71it/s]\n",
      "Epoch 356/400 Training: 100%|██████████| 235/235 [00:00<00:00, 235.97it/s]\n",
      "Epoch 356/400 Validation: 100%|██████████| 27/27 [00:00<00:00, 495.64it/s]\n"
     ]
    },
    {
     "name": "stdout",
     "output_type": "stream",
     "text": [
      "Epoch 356, Validation RMSE: 0.00023477160721085966\n"
     ]
    },
    {
     "name": "stderr",
     "output_type": "stream",
     "text": [
      "Epoch 357/400 Training: 100%|██████████| 235/235 [00:00<00:00, 239.43it/s]\n",
      "Epoch 358/400 Training: 100%|██████████| 235/235 [00:00<00:00, 238.84it/s]\n",
      "Epoch 359/400 Training: 100%|██████████| 235/235 [00:01<00:00, 231.76it/s]\n",
      "Epoch 360/400 Training: 100%|██████████| 235/235 [00:00<00:00, 235.90it/s]\n",
      "Epoch 361/400 Training: 100%|██████████| 235/235 [00:00<00:00, 236.39it/s]\n",
      "Epoch 361/400 Validation: 100%|██████████| 27/27 [00:00<00:00, 464.00it/s]\n"
     ]
    },
    {
     "name": "stdout",
     "output_type": "stream",
     "text": [
      "Epoch 361, Validation RMSE: 0.00022037557209841907\n",
      "New best model with RMSE: 0.00022037557209841907, saving model...\n"
     ]
    },
    {
     "name": "stderr",
     "output_type": "stream",
     "text": [
      "Epoch 362/400 Training: 100%|██████████| 235/235 [00:01<00:00, 214.72it/s]\n",
      "Epoch 363/400 Training: 100%|██████████| 235/235 [00:01<00:00, 215.45it/s]\n",
      "Epoch 364/400 Training: 100%|██████████| 235/235 [00:01<00:00, 211.78it/s]\n",
      "Epoch 365/400 Training: 100%|██████████| 235/235 [00:01<00:00, 216.09it/s]\n",
      "Epoch 366/400 Training: 100%|██████████| 235/235 [00:01<00:00, 214.21it/s]\n",
      "Epoch 366/400 Validation: 100%|██████████| 27/27 [00:00<00:00, 501.46it/s]\n"
     ]
    },
    {
     "name": "stdout",
     "output_type": "stream",
     "text": [
      "Epoch 366, Validation RMSE: 0.00023171653447207063\n"
     ]
    },
    {
     "name": "stderr",
     "output_type": "stream",
     "text": [
      "Epoch 367/400 Training: 100%|██████████| 235/235 [00:01<00:00, 215.23it/s]\n",
      "Epoch 368/400 Training: 100%|██████████| 235/235 [00:01<00:00, 216.37it/s]\n",
      "Epoch 369/400 Training: 100%|██████████| 235/235 [00:00<00:00, 236.18it/s]\n",
      "Epoch 370/400 Training: 100%|██████████| 235/235 [00:00<00:00, 242.29it/s]\n",
      "Epoch 371/400 Training: 100%|██████████| 235/235 [00:00<00:00, 241.52it/s]\n",
      "Epoch 371/400 Validation: 100%|██████████| 27/27 [00:00<00:00, 474.49it/s]\n"
     ]
    },
    {
     "name": "stdout",
     "output_type": "stream",
     "text": [
      "Epoch 371, Validation RMSE: 0.0002288172981934622\n"
     ]
    },
    {
     "name": "stderr",
     "output_type": "stream",
     "text": [
      "Epoch 372/400 Training: 100%|██████████| 235/235 [00:00<00:00, 242.30it/s]\n",
      "Epoch 373/400 Training: 100%|██████████| 235/235 [00:00<00:00, 238.88it/s]\n",
      "Epoch 374/400 Training: 100%|██████████| 235/235 [00:00<00:00, 240.73it/s]\n",
      "Epoch 375/400 Training: 100%|██████████| 235/235 [00:00<00:00, 243.11it/s]\n",
      "Epoch 376/400 Training: 100%|██████████| 235/235 [00:00<00:00, 239.90it/s]\n",
      "Epoch 376/400 Validation: 100%|██████████| 27/27 [00:00<00:00, 473.40it/s]\n"
     ]
    },
    {
     "name": "stdout",
     "output_type": "stream",
     "text": [
      "Epoch 376, Validation RMSE: 0.0002322109357919544\n"
     ]
    },
    {
     "name": "stderr",
     "output_type": "stream",
     "text": [
      "Epoch 377/400 Training: 100%|██████████| 235/235 [00:00<00:00, 241.60it/s]\n",
      "Epoch 378/400 Training: 100%|██████████| 235/235 [00:01<00:00, 221.46it/s]\n",
      "Epoch 379/400 Training: 100%|██████████| 235/235 [00:01<00:00, 214.37it/s]\n",
      "Epoch 380/400 Training: 100%|██████████| 235/235 [00:01<00:00, 215.02it/s]\n",
      "Epoch 381/400 Training: 100%|██████████| 235/235 [00:01<00:00, 211.75it/s]\n",
      "Epoch 381/400 Validation: 100%|██████████| 27/27 [00:00<00:00, 543.08it/s]\n"
     ]
    },
    {
     "name": "stdout",
     "output_type": "stream",
     "text": [
      "Epoch 381, Validation RMSE: 0.0002251954865641892\n"
     ]
    },
    {
     "name": "stderr",
     "output_type": "stream",
     "text": [
      "Epoch 382/400 Training: 100%|██████████| 235/235 [00:01<00:00, 214.85it/s]\n",
      "Epoch 383/400 Training: 100%|██████████| 235/235 [00:01<00:00, 224.82it/s]\n",
      "Epoch 384/400 Training: 100%|██████████| 235/235 [00:01<00:00, 223.59it/s]\n",
      "Epoch 385/400 Training: 100%|██████████| 235/235 [00:01<00:00, 224.14it/s]\n",
      "Epoch 386/400 Training: 100%|██████████| 235/235 [00:01<00:00, 216.26it/s]\n",
      "Epoch 386/400 Validation: 100%|██████████| 27/27 [00:00<00:00, 547.86it/s]\n"
     ]
    },
    {
     "name": "stdout",
     "output_type": "stream",
     "text": [
      "Epoch 386, Validation RMSE: 0.0002231053076684475\n"
     ]
    },
    {
     "name": "stderr",
     "output_type": "stream",
     "text": [
      "Epoch 387/400 Training: 100%|██████████| 235/235 [00:01<00:00, 213.55it/s]\n",
      "Epoch 388/400 Training: 100%|██████████| 235/235 [00:01<00:00, 221.10it/s]\n",
      "Epoch 389/400 Training: 100%|██████████| 235/235 [00:01<00:00, 231.04it/s]\n",
      "Epoch 390/400 Training: 100%|██████████| 235/235 [00:01<00:00, 227.28it/s]\n",
      "Epoch 391/400 Training: 100%|██████████| 235/235 [00:01<00:00, 220.27it/s]\n",
      "Epoch 391/400 Validation: 100%|██████████| 27/27 [00:00<00:00, 506.51it/s]\n"
     ]
    },
    {
     "name": "stdout",
     "output_type": "stream",
     "text": [
      "Epoch 391, Validation RMSE: 0.00023566615709569305\n"
     ]
    },
    {
     "name": "stderr",
     "output_type": "stream",
     "text": [
      "Epoch 392/400 Training: 100%|██████████| 235/235 [00:01<00:00, 223.08it/s]\n",
      "Epoch 393/400 Training: 100%|██████████| 235/235 [00:01<00:00, 225.46it/s]\n",
      "Epoch 394/400 Training: 100%|██████████| 235/235 [00:01<00:00, 226.01it/s]\n",
      "Epoch 395/400 Training: 100%|██████████| 235/235 [00:01<00:00, 223.50it/s]\n",
      "Epoch 396/400 Training: 100%|██████████| 235/235 [00:01<00:00, 229.98it/s]\n",
      "Epoch 396/400 Validation: 100%|██████████| 27/27 [00:00<00:00, 434.57it/s]\n"
     ]
    },
    {
     "name": "stdout",
     "output_type": "stream",
     "text": [
      "Epoch 396, Validation RMSE: 0.00022546632681041956\n"
     ]
    },
    {
     "name": "stderr",
     "output_type": "stream",
     "text": [
      "Epoch 397/400 Training: 100%|██████████| 235/235 [00:01<00:00, 231.68it/s]\n",
      "Epoch 398/400 Training: 100%|██████████| 235/235 [00:01<00:00, 228.17it/s]\n",
      "Epoch 399/400 Training: 100%|██████████| 235/235 [00:01<00:00, 218.59it/s]\n",
      "Epoch 400/400 Training: 100%|██████████| 235/235 [00:00<00:00, 239.78it/s]\n",
      "Epoch 400/400 Validation: 100%|██████████| 27/27 [00:00<00:00, 409.74it/s]"
     ]
    },
    {
     "name": "stdout",
     "output_type": "stream",
     "text": [
      "Epoch 400, Validation RMSE: 0.00021862114954274148\n",
      "New best model with RMSE: 0.00021862114954274148, saving model...\n"
     ]
    },
    {
     "name": "stderr",
     "output_type": "stream",
     "text": [
      "\n"
     ]
    }
   ],
   "source": [
    "model = LSTMModel(input_size=INPUT_SIZE, hidden_layer_size=HIDDEN_LAYER_SIZE, output_size=OUTPUT_SIZE)   \n",
    "\n",
    "## if you have GPU\n",
    "if cuda_available:\n",
    "    model.cuda()\n",
    "\n",
    "epochs = EPOCHS\n",
    "best_val_rmse = float('inf')\n",
    "criterion = nn.MSELoss()\n",
    "\n",
    "optimizer = torch.optim.Adam(model.parameters(), lr=LEARNNG_RATE)\n",
    "for epoch in range(epochs):\n",
    "    model.train()\n",
    "    train_loss= 0\n",
    "    for X_batch, y_batch in tqdm(trainloader, desc=f\"Epoch {epoch+1}/{epochs} Training\"):\n",
    "\n",
    "        ## if you have GPU\n",
    "        if cuda_available:\n",
    "            X_batch, y_batch = X_batch.cuda(), y_batch.cuda()\n",
    "\n",
    "        ####### LSTM ########\n",
    "        optimizer.zero_grad()\n",
    "        y_pred = model(X_batch)\n",
    "        loss = criterion(y_pred, y_batch)\n",
    "        loss.backward()\n",
    "        optimizer.step() \n",
    "        train_loss += loss.item()\n",
    "\n",
    "    # run validation every 5 epochs\n",
    "    if epoch % 5 == 0 or epoch == epochs-1:\n",
    "\n",
    "        model.eval()\n",
    "\n",
    "        val_rmse = []\n",
    "        y_preds = []\n",
    "        y_actuals = []\n",
    "        with torch.no_grad():\n",
    "            for X_batch, y_batch in tqdm(validloader, desc=f\"Epoch {epoch+1}/{epochs} Validation\"):\n",
    "\n",
    "                ## if you have GPU\n",
    "                if cuda_available:\n",
    "                    X_batch, y_batch = X_batch.cuda(), y_batch.cuda()\n",
    "\n",
    "                # inference the model\n",
    "                y_pred = model(X_batch)\n",
    "\n",
    "                # calculate RMSE\n",
    "                rmse = torch.sqrt(criterion(y_pred, y_batch)).cpu().numpy()\n",
    "                val_rmse.append(rmse)\n",
    "\n",
    "                # for the first batch\n",
    "                if len(y_preds) == 0:  \n",
    "                    y_preds = y_pred.cpu().numpy()\n",
    "                    y_actuals = y_batch.cpu().numpy()\n",
    "                # for the rest of the batches\n",
    "                else:  \n",
    "                    y_preds = np.vstack((y_preds, y_pred.cpu().numpy()))\n",
    "                    y_actuals = np.vstack((y_actuals, y_batch.cpu().numpy()))\n",
    "\n",
    "        epoch_val_rmse = np.mean(val_rmse)\n",
    "        print(f\"Epoch {epoch+1}, Validation RMSE: {epoch_val_rmse}\")\n",
    "\n",
    "        if epoch_val_rmse < best_val_rmse:\n",
    "            best_val_rmse = epoch_val_rmse\n",
    "            print(f\"New best model with RMSE: {best_val_rmse}, saving model...\")\n",
    "            torch.save(model.state_dict(), OUTPUT_FILENAME)"
   ]
  },
  {
   "cell_type": "code",
   "execution_count": null,
   "metadata": {},
   "outputs": [
    {
     "name": "stderr",
     "output_type": "stream",
     "text": [
      "100%|██████████| 1208/1208 [00:00<00:00, 1348.08it/s]"
     ]
    },
    {
     "name": "stdout",
     "output_type": "stream",
     "text": [
      "RMSE avg: 0.004286288247552676\n"
     ]
    },
    {
     "name": "stderr",
     "output_type": "stream",
     "text": [
      "\n"
     ]
    },
    {
     "data": {
      "image/png": "[encoded data removed]",
      "text/plain": [
       "<Figure size 640x480 with 1 Axes>"
      ]
     },
     "metadata": {},
     "output_type": "display_data"
    }
   ],
   "source": [
    "import matplotlib.pyplot as plt\n",
    "\n",
    "model.eval()\n",
    "data = pd.read_csv(r'data/free/free1/4_rear.csv') # choice was arbitrary selection from the dataset \n",
    "\n",
    "X = data.values[:,x_features].astype(np.float32)\n",
    "y = data.values[:,y_features].astype(np.float32)\n",
    "y_pred = []\n",
    "\n",
    "error_sum = 0\n",
    "with torch.no_grad():\n",
    "    for i in tqdm(range(X.shape[0]-5)):\n",
    "        t = torch.Tensor(X[i:i+5])\n",
    "        t = t.unsqueeze(0)\n",
    "\n",
    "        ## if you have GPU\n",
    "        if cuda_available:\n",
    "            t = t.cuda()\n",
    "        \n",
    "        pred = model(t)\n",
    "        pred = pred.cpu()\n",
    "        pred = pred.squeeze().cpu()\n",
    "        y_pred.append(pred.numpy())\n",
    "        rmse = np.sqrt(np.sum((y[i] - pred.numpy()) ** 2) / y[i].size)\n",
    "        error_sum += rmse\n",
    "\n",
    "error_sum = error_sum / (X.shape[0]-5)\n",
    "print(f'RMSE avg: {error_sum}')\n",
    "\n",
    "plt.plot(y[5:], label='actual')\n",
    "y_pred_arr = np.array(y_pred)\n",
    "plt.plot(y_pred_arr, label='predicted')\n",
    "plt.legend(loc='best')\n",
    "plt.show(block=True)"
   ]
  },
  {
   "cell_type": "code",
   "execution_count": null,
   "metadata": {},
   "outputs": [
    {
     "name": "stderr",
     "output_type": "stream",
     "text": [
      "c:\\Users\\woook\\anaconda3\\envs\\lstm_test\\Lib\\site-packages\\torch\\onnx\\symbolic_opset9.py:4279: UserWarning: Exporting a model to ONNX with a batch_size other than 1, with a variable length with LSTM can cause an error when running the ONNX model with a different batch size. Make sure to save the model with a batch size of 1, or define the initial states (h0/c0) as inputs of the model. \n",
      "  warnings.warn(\n"
     ]
    }
   ],
   "source": [
    "import torch.onnx\n",
    "\n",
    "x = torch.Tensor(X[:TIME_STEP])\n",
    "x = x.unsqueeze(0)\n",
    "x = x.cuda()\n",
    "torch.onnx.export(model, x, \"model12.onnx\", verbose=True, input_names=['input'], output_names=['output'], dynamic_axes={'input': {1: 'input_seq'}})"
   ]
  }
 ],
 "metadata": {
  "kernelspec": {
   "display_name": "lstm_test",
   "language": "python",
   "name": "python3"
  },
  "language_info": {
   "codemirror_mode": {
    "name": "ipython",
    "version": 3
   },
   "file_extension": ".py",
   "mimetype": "text/x-python",
   "name": "python",
   "nbconvert_exporter": "python",
   "pygments_lexer": "ipython3",
   "version": "3.12.3"
  }
 },
 "nbformat": 4,
 "nbformat_minor": 2
}
